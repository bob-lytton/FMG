{
 "cells": [
  {
   "cell_type": "code",
   "execution_count": 19,
   "metadata": {},
   "outputs": [],
   "source": [
    "import pickle\n",
    "import json\n",
    "import time, datetime\n",
    "import numpy as np\n",
    "\n",
    "def read_pickle(file):\n",
    "    with open(file, 'rb') as f:\n",
    "        ret = pickle.load(f)\n",
    "    return ret\n",
    "\n",
    "def read_json(file):\n",
    "    with open(file, 'r') as f:\n",
    "        ret = [json.loads(line) for line in f]\n",
    "    return ret\n",
    "\n",
    "def write_pickle(file, data):\n",
    "    with open(file, 'wb') as fw:\n",
    "        pickle.dump(data, fw)"
   ]
  },
  {
   "cell_type": "code",
   "execution_count": 3,
   "metadata": {},
   "outputs": [],
   "source": [
    "filepath = '../yelp_dataset/filtered/'\n",
    "jsonpath = '../yelp_dataset/json/'"
   ]
  },
  {
   "cell_type": "code",
   "execution_count": 4,
   "metadata": {},
   "outputs": [],
   "source": [
    "reviews = read_pickle(filepath+'reviews.pickle')\n",
    "users = read_pickle(filepath+'users.pickle')\n",
    "businesses = read_pickle(filepath+'businesses.pickle')"
   ]
  },
  {
   "cell_type": "code",
   "execution_count": 5,
   "metadata": {},
   "outputs": [],
   "source": [
    "busi_unfil = read_json(jsonpath+'yelp_academic_dataset_business.json')"
   ]
  },
  {
   "cell_type": "code",
   "execution_count": 80,
   "metadata": {},
   "outputs": [
    {
     "name": "stdout",
     "output_type": "stream",
     "text": [
      "<class 'list'>\n",
      "dict_keys(['cool', 'user_id', 'text', 'useful', 'funny', 'date', 'review_id', 'stars', 'business_id'])\n",
      "742969\n"
     ]
    }
   ],
   "source": [
    "print(type(reviews))\n",
    "print(reviews[0].keys())\n",
    "print(len(reviews))"
   ]
  },
  {
   "cell_type": "code",
   "execution_count": 6,
   "metadata": {},
   "outputs": [
    {
     "name": "stdout",
     "output_type": "stream",
     "text": [
      "dict_keys(['review_count', 'cool', 'compliment_note', 'compliment_plain', 'compliment_hot', 'fans', 'elite', 'name', 'average_stars', 'compliment_cute', 'compliment_funny', 'compliment_photos', 'yelping_since', 'compliment_more', 'compliment_list', 'funny', 'friends', 'user_id', 'compliment_cool', 'useful', 'compliment_writer', 'compliment_profile'])\n"
     ]
    }
   ],
   "source": [
    "user_unfil = read_json(jsonpath+'yelp_academic_dataset_user.json')\n",
    "print(user_unfil[0].keys())"
   ]
  },
  {
   "cell_type": "code",
   "execution_count": 6,
   "metadata": {},
   "outputs": [
    {
     "name": "stdout",
     "output_type": "stream",
     "text": [
      "<class 'dict'>\n",
      "dict_keys(['address', 'hours', 'state', 'review_count', 'latitude', 'categories', 'city', 'attributes', 'business_id', 'longitude', 'name', 'postal_code', 'stars', 'is_open'])\n",
      "192609\n",
      "Golf, Active Life\n"
     ]
    }
   ],
   "source": [
    "print(type(busi_unfil[0]))\n",
    "print(busi_unfil[0].keys())\n",
    "print(len(busi_unfil))\n",
    "print(busi_unfil[0]['categories'])"
   ]
  },
  {
   "cell_type": "code",
   "execution_count": 7,
   "metadata": {},
   "outputs": [],
   "source": [
    "busi_filtered = []\n",
    "for busi in busi_unfil:\n",
    "    for business in businesses:\n",
    "        if busi['business_id'] == business:\n",
    "            busi_filtered.append(busi)\n",
    "            break\n",
    "user_filtered = []\n",
    "for user in user_unfil:\n",
    "    for u in users:\n",
    "        if user['user_id'] == u:\n",
    "            user_filtered.append(user)\n",
    "            break"
   ]
  },
  {
   "cell_type": "code",
   "execution_count": 8,
   "metadata": {},
   "outputs": [
    {
     "name": "stdout",
     "output_type": "stream",
     "text": [
      "12852\n",
      "12852\n"
     ]
    }
   ],
   "source": [
    "print(len(busi_filtered))\n",
    "print(len(businesses))"
   ]
  },
  {
   "cell_type": "code",
   "execution_count": 9,
   "metadata": {
    "scrolled": true
   },
   "outputs": [],
   "source": [
    "uinds = [i for i in range(len(users))]\n",
    "uid2ind = {user:ind for user, ind in zip(users, uinds)}\n",
    "ind2uid = {ind:user for user, ind in zip(users, uinds)}"
   ]
  },
  {
   "cell_type": "code",
   "execution_count": 67,
   "metadata": {},
   "outputs": [],
   "source": [
    "b_inds = [i for i in range(len(businesses))]\n",
    "bid2ind = {business:ind for business, ind in zip(businesses, b_inds)}\n",
    "ind2bid = {ind:business for business, ind in zip(businesses, b_inds)}"
   ]
  },
  {
   "cell_type": "code",
   "execution_count": 68,
   "metadata": {},
   "outputs": [],
   "source": [
    "cities = set(busi['city'] for busi in busi_filtered)\n",
    "c_inds = [i for i in range(len(cities))]\n",
    "ct_id2ind = {city:ind for city, ind in zip(cities, c_inds)}\n",
    "ind2ct_id = {ind:city for city, ind in zip(cities, c_inds)}"
   ]
  },
  {
   "cell_type": "code",
   "execution_count": 69,
   "metadata": {},
   "outputs": [
    {
     "name": "stdout",
     "output_type": "stream",
     "text": [
      "160\n",
      "{'Queen Creek': 0, 'Peninsula': 1, 'Scottdale': 3, 'Strongsville': 69, 'Seven Hills': 2, 'Summerlin': 124, 'Charlotte': 72, 'Las Vegas': 73, 'Richmond Hil': 76, 'Cleveland Heights': 75, 'Davidson': 77, 'Robinson Township': 91, 'Boulder City': 79, 'Cornelius': 81, 'Fort McDowell': 107, 'Avondale': 82, 'Richmond Hill': 5, 'Valley View': 83, 'Robinson': 6, 'Laveen': 143, 'Etibicoke': 7, 'Fairview Park': 150, 'Enterprise': 86, 'Markham': 87, 'King City': 8, 'Spring Valley': 89, 'Don Mills': 4, 'Newmarket': 9, 'Belmont': 92, 'RIchmond Hill': 120, 'Avon': 71, 'Thornhill': 10, 'Chesterland': 11, 'Surprise': 74, 'Fountain Hills': 13, 'N. Las Vegas': 97, 'Glendale': 14, 'Chandler': 132, 'Brecksville': 15, 'Highland Heights': 113, 'Woodbridge': 101, 'Huntersville': 93, 'Olmsted Falls': 99, 'Stallings': 12, 'Mount Horeb': 16, 'Scottsdale': 17, 'W Spring Valley': 18, 'South Euclid': 90, 'Indian Trail': 105, 'North Las Vegas': 106, 'Homestead': 94, 'Upper St Clair': 78, 'Moon Township': 48, 'North Olmsted': 19, 'Mesa': 108, 'Westmount': 109, 'Dallas': 112, 'East Liberty': 20, 'Ross Township': 50, 'Moreland Hills': 21, 'Hudson': 110, 'Bellevue': 80, 'Scarborough': 111, 'Halton Hills': 141, 'Independence': 140, 'Berea': 22, 'Tornto': 23, 'Brunswick': 24, 'Tega Cay': 25, 'Matthews': 26, 'Carnegie': 28, 'Madison': 29, 'Oakmont': 115, 'South Las Vegas': 116, 'Montréal': 30, 'Mint Hill': 31, 'University Heights': 39, 'Mississauga': 32, 'Mount Lebanon': 98, 'Ahwatukee': 33, 'Sun Prairie': 34, 'Allison Park': 118, 'Vaughan': 119, 'Concord': 35, 'Harrisburg': 96, 'Wexford': 36, 'Clark': 37, 'Toronto': 38, 'N W Las Vegas': 104, 'Phoenix': 134, 'Cuyahoga Falls': 123, 'Cave Creek': 40, 'Rocky River': 41, 'Munhall': 138, 'Twinsburg': 27, 'East York': 126, 'Painesville': 85, 'Aurora': 42, 'Willoughby': 95, 'Unionville': 131, 'Maple': 43, 'Brampton': 130, 'Oakville': 100, 'West Homestead': 44, 'Fort Mill': 114, 'Woodmere Village': 84, 'Cleveland': 45, 'Bridgeville': 46, 'Guadalupe': 122, 'Rock Hill': 47, 'Tempe': 133, 'Verona': 49, 'Pickering': 53, 'Pittsburgh': 51, 'Parma': 135, 'Lower Lawrenceville': 52, 'Anthem': 136, 'Monroeville': 137, 'York': 125, 'Brookline': 103, 'Woodmere': 54, 'Coraopolis': 142, 'Carefree': 157, 'W Henderson': 55, 'North York': 117, 'Pineville': 139, 'Litchfield Park': 56, 'Paradise Valley': 57, 'Upper Saint Clair': 145, 'Lyndhurst': 146, 'Orange Village': 58, 'Etobicoke': 127, 'Lawrenceville': 59, 'Peoria': 148, 'Westlake': 149, 'Gilbert': 60, 'Mayfield Heights': 151, 'Pepper Pike': 128, 'Mt. Lebanon': 147, 'Fitchburg': 152, 'Sun City': 102, 'Missisauga': 153, 'West Mifflin': 61, 'Bethel Park': 62, 'Las  Vegas': 154, 'C Las Vegas': 155, 'Montreal': 68, 'Beachwood': 156, 'Goodyear': 63, 'Chagrin Falls': 159, 'Tremont': 64, 'Lakewood': 65, 'Blakeney': 70, 'LAS VEGAS': 158, 'Middleton': 66, 'Calgary': 88, 'Henderson': 121, 'Dorval': 144, 'Monona': 67, 'Blue Diamond': 129}\n"
     ]
    }
   ],
   "source": [
    "print(len(cities))\n",
    "print(ct_id2ind)"
   ]
  },
  {
   "cell_type": "code",
   "execution_count": 70,
   "metadata": {},
   "outputs": [],
   "source": [
    "categories = set(category.strip() for busi in busi_filtered for category in busi['categories'].split(','))\n",
    "ca_inds = [i for i in range(len(categories))]\n",
    "ca_id2ind = {category:ind for category, ind in zip(categories, ca_inds)}\n",
    "ind2ca_id = {ind:category for category, ind in zip(categories, ca_inds)}"
   ]
  },
  {
   "cell_type": "code",
   "execution_count": 71,
   "metadata": {},
   "outputs": [
    {
     "name": "stdout",
     "output_type": "stream",
     "text": [
      "659\n",
      "{'Towing': 68, 'Lawyers': 0, 'Notaries': 331, 'Hiking': 1, 'Poutineries': 268, 'Auto Glass Services': 2, 'Island Pub': 4, 'Egyptian': 563, 'Steakhouses': 334, 'Patisserie/Cake Shop': 335, 'Strip Clubs': 602, 'Ukrainian': 5, 'Audiologist': 336, 'Kosher': 6, 'Festivals': 393, 'Tea Rooms': 7, 'Art Supplies': 8, 'Massage Therapy': 9, 'Religious Organizations': 11, 'Hotels': 495, 'Nutritionists': 12, 'Pasta Shops': 338, 'Dinner Theater': 508, 'Playgrounds': 605, 'Delis': 13, 'Windshield Installation & Repair': 394, 'Japanese': 341, 'Cosmetic Dentists': 14, 'Mattresses': 15, 'Eyewear & Opticians': 17, 'Thai': 529, 'Baseball Fields': 18, 'Convenience Stores': 19, 'Cocktail Bars': 344, 'Makeup Artists': 395, 'Pet Stores': 345, 'Team Building Activities': 20, 'Trampoline Parks': 346, 'Kitchen & Bath': 347, 'Limos': 417, 'Courthouses': 21, 'Tires': 332, 'Chicken Shop': 350, 'Drive-In Theater': 3, 'Pet Boarding': 521, \"Men's Clothing\": 22, 'Resorts': 23, 'Afghan': 25, 'Sporting Goods': 352, 'Framing': 396, 'Taiwanese': 26, 'Shipping Centers': 27, 'Sports Wear': 354, 'Supper Clubs': 30, 'Grocery': 31, 'Lakes': 558, 'Computers': 357, 'Auto Loan Providers': 32, 'Laboratory Testing': 358, 'Car Rental': 359, 'Guns & Ammo': 33, 'Taxis': 446, 'Translation Services': 148, 'Cooking Classes': 34, 'Pan Asian': 35, 'Botanical Gardens': 360, 'Champagne Bars': 36, 'Mexican': 38, 'Dog Parks': 362, 'Acai Bowls': 363, 'Creperies': 364, 'Hardware Stores': 365, 'Electronics Repair': 39, 'Kids Activities': 367, 'Home Theatre Installation': 41, 'Cheese Tasting Classes': 42, 'Wine Bars': 43, 'Medical Centers': 44, 'Farms': 557, 'Dance Clubs': 275, 'Rafting/Kayaking': 45, 'Pet Sitting': 46, 'Butcher': 47, 'Emergency Pet Hospital': 400, 'Department Stores': 48, 'Herbs & Spices': 50, 'Diagnostic Services': 375, 'Food Trucks': 277, 'Travel Services': 51, 'Newspapers & Magazines': 376, 'Macarons': 377, 'Escape Games': 380, 'Dry Cleaning': 53, 'Challenge Courses': 54, 'Local Services': 381, 'Hot Dogs': 55, 'Bowling': 382, 'Wine & Spirits': 399, 'Outdoor Gear': 383, 'Musicians': 56, 'Mountain Biking': 467, 'Ophthalmologists': 385, 'Rehabilitation Center': 579, 'Pool Halls': 57, 'Florists': 58, 'Hostels': 59, 'Mobile Phone Repair': 61, 'Drugstores': 62, 'Train Stations': 389, 'Community Centers': 390, 'Poke': 64, 'Watch Repair': 65, 'Buses': 66, 'Swimwear': 67, 'Shopping Centers': 69, 'Physical Therapy': 70, 'Themed Cafes': 10, 'Swimming Pools': 71, 'Canadian (New)': 72, 'Perfume': 282, 'Transportation': 73, 'Carpet Cleaning': 397, 'Interior Design': 74, 'Barbers': 75, 'Bingo Halls': 244, 'Shoe Repair': 76, 'Magicians': 599, 'Pet Adoption': 77, 'Tex-Mex': 624, 'Waffles': 337, 'Nightlife': 398, 'Comfort Food': 78, 'Airlines': 536, 'Tasting Classes': 401, 'Lebanese': 402, 'Argentine': 79, 'Wineries': 403, 'Spanish': 81, 'Orthopedists': 603, 'Virtual Reality Centers': 82, 'Real Estate Services': 80, 'Education': 614, 'Blow Dry/Out Services': 84, 'Community Service/Non-Profit': 340, 'Colleges & Universities': 85, 'Adult Education': 86, 'Car Share Services': 405, 'IT Services & Computer Repair': 87, 'Screen Printing': 407, 'Car Dealers': 408, 'Dentists': 88, 'Cultural Center': 349, 'Weight Loss Centers': 63, 'Singaporean': 89, 'Cosmetology Schools': 90, 'Street Vendors': 91, 'Signmaking': 496, 'Disc Golf': 92, 'Cosmetic Surgeons': 411, 'Izakaya': 93, 'Teeth Whitening': 94, 'Dim Sum': 95, 'Asian Fusion': 96, 'Airports': 415, 'Driving Schools': 416, 'Ziplining': 97, 'Books': 98, 'Parks': 419, 'Massage': 284, 'Internet Service Providers': 99, 'Czech': 83, 'Pick Your Own Farms': 100, 'Conveyor Belt Sushi': 101, 'Party Equipment Rentals': 361, 'Art Tours': 423, 'Paint Stores': 103, 'Country Clubs': 638, 'Lighting Fixtures & Equipment': 342, 'Mass Media': 644, 'Printing Services': 457, 'Do-It-Yourself Food': 425, 'Cajun/Creole': 104, 'Hotels & Travel': 404, 'Pharmacy': 426, 'Internet Cafes': 105, 'Hot Pot': 106, 'Tuscan': 107, 'Trainers': 428, 'Hong Kong Style Cafe': 561, 'Mortgage Brokers': 429, 'Personal Shopping': 108, 'Casinos': 133, 'Breakfast & Brunch': 109, 'Boxing': 343, 'Public Transportation': 431, 'Emergency Rooms': 432, 'Junk Removal & Hauling': 110, 'Self Storage': 435, 'Seafood': 333, 'Cycling Classes': 622, 'Insurance': 406, 'Middle Schools & High Schools': 136, 'Tiki Bars': 436, 'Gastropubs': 437, 'Naturopathic/Holistic': 459, 'Contractors': 111, 'Holiday Decorations': 112, 'Venues & Event Spaces': 571, 'Laundry Services': 113, 'Fabric Stores': 374, 'Airport Lounges': 114, 'Acupuncture': 115, 'Lounges': 439, 'Caribbean': 440, 'Tours': 348, 'DJs': 116, 'New Mexican Cuisine': 441, 'Soccer': 550, 'African': 117, 'Organic Stores': 442, 'Print Media': 118, 'Appliances & Repair': 119, 'Foundation Repair': 120, 'Halal': 443, 'Irish Pub': 121, 'Public Markets': 444, 'Elementary Schools': 445, 'Aquariums': 122, 'Reflexology': 123, 'Comic Books': 124, 'Piano Bars': 233, 'Real Estate': 125, 'Maternity Wear': 295, 'Furniture Stores': 447, 'Opera & Ballet': 126, 'Skin Care': 127, 'Eyebrow Services': 449, 'Pet Groomers': 128, 'Veterinarians': 129, 'Cantonese': 409, 'Professional Services': 628, 'Barbeque': 130, 'Ethiopian': 615, 'Arts & Crafts': 323, 'Vintage & Consignment': 451, 'Art Galleries': 131, 'Security Systems': 452, 'Knitting Supplies': 351, 'Music & DVDs': 453, 'Accessories': 618, 'Television Stations': 454, 'Home Services': 132, 'Active Life': 641, 'Animal Shelters': 455, 'American (Traditional)': 456, 'Market Stalls': 626, 'Cambodian': 139, 'Shanghainese': 479, 'Gluten-Free': 135, 'Brewpubs': 137, 'Nail Technicians': 140, 'Tapas/Small Plates': 138, 'Gelato': 460, 'Heating & Air Conditioning/HVAC': 141, 'Pakistani': 461, 'Waxing': 462, 'Falafel': 142, 'Financial Services': 463, 'Wedding Planning': 299, 'Vietnamese': 143, 'Pizza': 464, 'Health & Medical': 328, 'Desserts': 466, 'Striptease Dancers': 146, 'Pumpkin Patches': 147, 'Allergists': 24, 'Speakeasies': 412, 'Wraps': 468, 'Street Art': 413, 'Sewing & Alterations': 144, 'Shopping': 149, 'Race Tracks': 145, 'Vegan': 470, 'German': 150, 'Leather Goods': 555, 'Used': 151, 'Chicken Wings': 625, 'Ramen': 152, 'Music Venues': 471, 'Food Stands': 153, 'Portuguese': 154, 'Local Flavor': 472, 'Delicatessen': 473, 'Traditional Chinese Medicine': 388, 'Sushi Bars': 159, 'Sports Medicine': 353, 'Ski Resorts': 155, 'Diners': 474, 'Martial Arts': 157, 'Japanese Curry': 158, 'Hunting & Fishing Supplies': 645, 'Civic Center': 28, 'Vacation Rentals': 635, 'Southern': 630, 'Mediterranean': 162, 'Cheesesteaks': 418, 'Chinese': 164, 'Cuban': 165, 'Landmarks & Historical Buildings': 475, 'Rock Climbing': 476, 'Colombian': 421, 'Donation Center': 166, 'Auto Parts & Supplies': 478, 'Bed & Breakfast': 167, 'Car Wash': 168, 'Hair Stylists': 305, 'Golf Equipment': 169, 'Vitamins & Supplements': 339, 'Yoga': 492, 'Wholesale Stores': 481, 'Custom Cakes': 170, 'Town Car Service': 171, 'French': 172, 'Utilities': 29, 'Beaches': 173, 'Souvenir Shops': 483, 'Wholesalers': 177, 'Juice Bars & Smoothies': 175, 'Soul Food': 176, 'Kombucha': 621, 'Car Stereo Installation': 484, 'Middle Eastern': 178, 'Candy Stores': 485, 'Horseback Riding': 179, 'Bistros': 506, 'Office Equipment': 487, 'Guest Houses': 488, 'Burmese': 489, 'Marketing': 490, 'Bubble Tea': 180, 'Recreation Centers': 448, 'Gyms': 181, 'Dive Bars': 420, 'Party Supplies': 493, 'Personal Chefs': 469, 'Hair Extensions': 182, 'Kiosk': 183, 'Urgent Care': 584, 'Country Dance Halls': 184, 'Apartments': 494, 'Head Shops': 486, 'Music & Video': 185, 'Hospitals': 186, 'Pest Control': 497, 'Gift Shops': 616, 'Amateur Sports Teams': 498, 'Adult': 187, 'Motorcycle Dealers': 499, 'Donairs': 188, 'Musical Instrument Services': 102, 'Shaved Snow': 189, 'Shaved Ice': 500, 'Leisure Centers': 190, 'Golf': 191, 'Party & Event Planning': 655, 'Automotive': 192, 'Summer Camps': 368, 'Pawn Shops': 504, 'Beauty & Spas': 193, 'Latin American': 507, 'Spiritual Shop': 509, 'Fish & Chips': 510, 'Barre Classes': 194, 'Cooking Schools': 195, 'Moroccan': 512, 'Flooring': 513, 'Ice Cream & Frozen Yogurt': 511, 'Noodles': 196, 'Karaoke': 197, 'Property Management': 198, 'Christmas Trees': 582, 'Greek': 516, 'Toy Stores': 517, 'Social Clubs': 199, 'Live/Raw Food': 518, 'Nurseries & Gardening': 424, 'Eatertainment': 313, 'Arcades': 637, 'Bikes': 520, 'Popcorn Shops': 200, 'Farmers Market': 355, 'Yelp Events': 598, 'Used Bookstore': 37, 'Gas Stations': 201, 'Indonesian': 202, 'Event Planning & Services': 203, 'Fashion': 523, 'Laser Tag': 205, 'Hungarian': 206, 'Bagels': 207, 'Turkish': 526, 'Ear Nose & Throat': 251, 'Arts & Entertainment': 528, 'Bridal': 209, 'Fitness/Exercise Equipment': 204, 'Mongolian': 531, 'Tobacco Shops': 210, 'Go Karts': 524, 'Bike Repair/Maintenance': 501, 'Used Car Dealers': 532, 'Coffeeshops': 533, 'Mobile Dent Repair': 371, 'Horse Racing': 535, 'Sports Clubs': 373, 'Meat Shops': 525, 'Electricians': 574, 'Distilleries': 422, 'Airport Shuttles': 538, 'Carpeting': 211, 'Cafeteria': 208, 'Parking': 534, 'Ethnic Food': 212, 'Cardio Classes': 213, 'Cideries': 607, 'Reiki': 366, \"Men's Hair Salons\": 214, 'Museums': 215, 'Beer': 216, 'Pilates': 541, 'Musical Instruments & Teachers': 590, 'Family Practice': 544, 'Coffee & Tea': 545, 'Costumes': 217, 'Gun/Rifle Ranges': 218, 'Permanent Makeup': 40, 'Smog Check Stations': 548, 'Flowers & Gifts': 549, 'Indian': 551, 'Beer Bar': 219, 'Fishing': 220, 'Szechuan': 552, 'Doctors': 553, 'Beer Gardens': 160, 'Vegetarian': 554, 'Telecommunications': 427, 'Irish': 643, 'Departments of Motor Vehicles': 527, 'Haunted Houses': 221, 'Eyelash Service': 556, 'Buffets': 222, 'Carpet Installation': 223, 'Seafood Markets': 656, 'Fast Food': 559, \"Children's Clothing\": 560, 'Movers': 156, 'Ticket Sales': 224, 'Medical Transportation': 225, 'Swimming Lessons/Schools': 564, 'Truck Rental': 565, 'Fruits & Veggies': 226, 'Tapas Bars': 227, 'Radiologists': 480, 'Water Purification Services': 356, 'Airport Terminals': 566, 'Employment Agencies': 369, 'Nicaraguan': 228, 'Australian': 567, 'Scottish': 568, 'Peruvian': 522, 'Hakka': 491, 'Climbing': 253, 'Coffee Roasteries': 581, 'Wedding Chapels': 229, 'Salvadoran': 230, 'Basque': 161, 'Obstetricians & Gynecologists': 570, 'Gay Bars': 269, 'Sandwiches': 231, 'Couriers & Delivery Services': 317, 'Bars': 465, 'Rugs': 232, 'Window Washing': 235, 'Polish': 234, 'Optometrists': 370, 'Belgian': 430, 'Cannabis Clinics': 236, 'Thrift Stores': 237, 'Races & Competitions': 238, 'Skating Rinks': 239, 'Threading Services': 433, \"Children's Museums\": 240, \"Women's Clothing\": 319, 'Hawaiian': 241, 'Comedy Clubs': 576, 'Cheese Shops': 242, 'Tennis': 410, 'Health Markets': 243, 'Water Parks': 577, 'Electronics': 578, 'Food Delivery Services': 49, 'Chocolatiers & Shops': 163, 'Luggage': 134, 'Stadiums & Arenas': 372, 'Hair Salons': 580, 'Beer Garden': 245, 'Medical Spas': 246, 'Cosmetics & Beauty Supply': 589, 'Puerto Rican': 247, 'Wigs': 248, 'Empanadas': 249, 'Supernatural Readings': 250, 'Food Court': 503, 'Props': 583, 'Udon': 434, 'Malaysian': 572, 'Laser Hair Removal': 585, 'Health Retreats': 586, 'Piercing': 252, 'Amusement Parks': 592, 'Italian': 587, 'Home Decor': 588, 'South African': 254, 'Scandinavian': 530, 'Mobile Phone Accessories': 255, 'Sports Bars': 591, 'Appliances': 256, 'Korean': 257, 'Teppanyaki': 258, 'Fitness & Instruction': 259, 'British': 260, 'Art Classes': 477, 'Tickets': 262, 'Caterers': 263, 'Guitar Stores': 593, 'Bike Rentals': 595, 'Commercial Truck Dealers': 264, 'Himalayan/Nepalese': 379, 'Smokehouse': 634, 'Shoe Stores': 265, 'Plumbing': 537, 'Beverage Store': 60, 'Nail Salons': 384, 'Burgers': 52, 'Hair Removal': 569, 'Outlet Stores': 267, 'Oaxacan': 270, 'Cupcakes': 642, 'Hotel bar': 539, 'Austrian': 600, 'International Grocery': 601, 'Bookstores': 271, 'Pubs': 547, 'Cafes': 604, 'Gemstones & Minerals': 540, 'Boot Camps': 261, 'Tanning': 606, 'International': 279, 'Mags': 272, 'Oral Surgeons': 273, 'Oil Change Stations': 274, 'Bartenders': 276, 'Libraries': 608, 'Breweries': 16, 'Mobile Phones': 609, 'Outdoor Furniture Stores': 610, 'Mini Golf': 611, 'Educational Services': 392, 'Pet Training': 278, 'Jewelry': 280, 'Boating': 281, 'Fondue': 612, 'Television Service Providers': 613, 'Photography Stores & Services': 450, 'Ethical Grocery': 573, 'Whiskey Bars': 594, 'Vinyl Records': 617, 'Diagnostic Imaging': 283, 'Hookah Bars': 285, 'Water Heater Installation/Repair': 286, 'Flea Markets': 619, 'Venezuelan': 620, 'Trains': 287, 'General Dentistry': 288, 'Videos & Video Game Rental': 289, 'Antiques': 291, 'Body Shops': 651, 'Formal Wear': 292, 'Child Care & Day Care': 293, 'Adult Entertainment': 294, 'CSA': 438, 'Imported Food': 296, 'Brazilian': 482, 'Guamanian': 290, 'Auto Repair': 298, 'Art Schools': 627, 'Ethnic Grocery': 300, 'Armenian': 505, 'Bakeries': 301, 'Cinema': 302, 'Baby Gear & Furniture': 629, 'Basketball Courts': 303, 'Pool & Billiards': 631, 'Filipino': 304, 'Specialty Schools': 414, 'Car Window Tinting': 306, 'Post Offices': 632, 'Home & Garden': 633, 'Counseling & Mental Health': 596, 'Pop-Up Restaurants': 386, 'Bangladeshi': 542, 'Landscaping': 307, 'Sri Lankan': 623, 'Building Supplies': 308, 'Donuts': 546, 'Soup': 636, 'Observatories': 297, 'Car Buyers': 562, 'Dry Cleaning & Laundry': 543, 'Tattoo': 639, 'Lingerie': 378, 'Restaurants': 640, 'Arabian': 309, 'Tabletop Games': 310, 'Persian/Iranian': 311, 'Jazz & Blues': 312, 'Russian': 315, 'Day Spas': 314, 'Tubing': 575, 'Tacos': 514, 'American (New)': 174, 'Performing Arts': 387, 'Hobby Shops': 316, 'Drive-Thru Bars': 318, 'Septic Services': 646, 'Salad': 320, 'Watches': 647, 'Specialty Food': 597, 'Home Cleaning': 648, 'Shades & Blinds': 329, 'Pet Services': 649, 'Pretzels': 266, 'Food': 321, 'Pets': 322, 'Brasseries': 650, 'Public Services & Government': 458, 'Video Game Stores': 324, 'Wheel & Rim Repair': 325, 'Modern European': 326, 'Dominican': 515, 'Auto Detailing': 652, 'Spray Tanning': 502, 'Laotian': 653, 'Professional Sports Teams': 654, 'Cards & Stationery': 327, 'Art Museums': 519, 'Kebab': 391, 'Eastern European': 330, 'Zoos': 657, 'Discount Store': 658}\n"
     ]
    }
   ],
   "source": [
    "print(len(categories))\n",
    "print(ca_id2ind)"
   ]
  },
  {
   "cell_type": "code",
   "execution_count": 10,
   "metadata": {},
   "outputs": [
    {
     "name": "stdout",
     "output_type": "stream",
     "text": [
      "[[0. 0. 0.]\n",
      " [0. 0. 0.]\n",
      " [0. 0. 0.]\n",
      " ...\n",
      " [0. 0. 0.]\n",
      " [0. 0. 0.]\n",
      " [0. 0. 0.]]\n"
     ]
    }
   ],
   "source": [
    "import numpy as np\n",
    "Y = np.zeros((len(users)*len(businesses), 3))\n",
    "print(Y)"
   ]
  },
  {
   "cell_type": "code",
   "execution_count": 13,
   "metadata": {},
   "outputs": [],
   "source": [
    "def dataset_split(reviews, userid_to_num, businessid_to_num, train_ratio, valid_ratio, test_ratio, n_neg_sample):\n",
    "    selected_reviews = []\n",
    "    \n",
    "    for review in reviews:\n",
    "        filtered_review = {}\n",
    "        filtered_review['user_id'] = userid_to_num[review['user_id']]\n",
    "        filtered_review['business_id'] = businessid_to_num[review['business_id']]\n",
    "        filtered_review['rate'] = 1.0\n",
    "        filtered_review['timestamp'] = time.mktime(datetime.datetime.strptime(review['date'], '%Y-%m-%d %H:%M:%S').timetuple())\n",
    "        selected_reviews.append(filtered_review)\n",
    "        \n",
    "    selected_reviews_sorted = sorted(selected_reviews, key=lambda k: k['timestamp']) # use the earlier data to train and the later data to test\n",
    "    n_reviews = len(selected_reviews_sorted)\n",
    "    train_size = int(n_reviews*train_ratio)\n",
    "    valid_size = int(n_reviews*valid_ratio)\n",
    "    train_data = [selected_reviews_sorted[index] for index in range(train_size)]\n",
    "    valid_data = [selected_reviews_sorted[index] for index in range(train_size, train_size+valid_size)]\n",
    "    test_data = [selected_reviews_sorted[index] for index in range(train_size+valid_size, n_reviews)]\n",
    "    \n",
    "    selected_users = set()\n",
    "    selected_businesses = set()\n",
    "    for review in train_data:\n",
    "        selected_users.add(review['user_id'])\n",
    "        selected_businesses.add(review['business_id'])\n",
    "        \n",
    "    eval_datas = [valid_data, test_data]\n",
    "#     selected_eval_datas = [[] for _ in range(len(eval_datas))]\n",
    "    selected_eval_datas = [[], []]\n",
    "    for eval_index in range(len(eval_datas)):\n",
    "        eval_data = eval_datas[eval_index]\n",
    "        for review in eval_data:\n",
    "            if review['user_id'] in selected_users and review['business_id'] in selected_businesses:\n",
    "                selected_eval_datas[eval_index].append(review)\n",
    "    selected_valid_data, selected_test_data = selected_eval_datas\n",
    "    \n",
    "    data_list = [train_data, selected_valid_data, selected_test_data]\n",
    "#     data_for_user_list = [{} for _ in range(len(data_list))]\n",
    "    data_for_user_list = [{}, {}, {}]\n",
    "    train_data_for_item = set()\n",
    "    for index in range(len(data_list)):\n",
    "        data = data_list[index]\n",
    "        data_for_user = data_for_user_list[index]\n",
    "        for review in data:\n",
    "            user = review['user_id']\n",
    "            item = review['business_id']\n",
    "            if index == 0:\n",
    "                train_data_for_item.add(item)\n",
    "            if user not in data_for_user:\n",
    "                data_for_user[user] = [item]\n",
    "            else:\n",
    "                data_for_user[user].append(item)\n",
    "    train_data_for_user, valid_data_for_user, test_data_for_user = data_for_user_list # dictionary of user_id:[item_id]\n",
    "    \n",
    "    with_neg_list = [valid_data_for_user, test_data_for_user]\n",
    "#     data_with_neg_list = [[] for _ in range(len(with_neg_list))]\n",
    "    data_with_neg_list = [[], []]\n",
    "    for index in range(len(with_neg_list)):\n",
    "        current_data = with_neg_list[index]\n",
    "        for user in current_data.keys():\n",
    "            if user not in selected_users:\n",
    "                continue\n",
    "            user_eval = {} # a dict\n",
    "            business_set = selected_businesses - set(train_data_for_user[user]) - set(current_data[user]) # items not existed in this user's records\n",
    "            sample_businesses = np.random.choice(list(business_set), size=n_neg_sample, replace=False)    # sample is random.choice\n",
    "            user_eval['user_id'] = user\n",
    "            user_eval['pos_business_id'] = current_data[user]\n",
    "            user_eval['neg_business_id'] = list(sample_businesses)\n",
    "            data_with_neg_list[index].append(user_eval)\n",
    "    valid_with_neg, test_with_neg = data_with_neg_list\n",
    "    \n",
    "    return train_data, selected_valid_data, selected_test_data, valid_with_neg, test_with_neg"
   ]
  },
  {
   "cell_type": "code",
   "execution_count": 14,
   "metadata": {},
   "outputs": [],
   "source": [
    "# get adjs\n",
    "def get_adj_matrix(uid2ind, bid2ind, city_id2ind, cat_id2ind, users, businesses, reviews):\n",
    "    \"\"\"\n",
    "    metapaths: UB, UUB, UBUB, UBCaB, UBCiB\n",
    "    \"\"\"\n",
    "    tot_users = len(uid2ind)  # tot for total\n",
    "    tot_business = len(bid2ind)\n",
    "    tot_city = len(city_id2ind)\n",
    "    tot_category = len(cat_id2ind)\n",
    "    print(tot_users, tot_business, tot_city, tot_category)\n",
    "    #relation U-U\n",
    "    adj_UU = np.zeros([tot_users, tot_users])\n",
    "    adj_UB = np.zeros([tot_users, tot_business])\n",
    "    adj_BCa = np.zeros([tot_business, tot_category])\n",
    "    adj_BCi = np.zeros([tot_business, tot_city])\n",
    "    print(adj_BCi.shape)\n",
    "    for user in users:\n",
    "        if user['user_id'] not in uid2ind:\n",
    "            continue\n",
    "        user_id = uid2ind[user['user_id']]\n",
    "        for friend in user['friends'].split(','):\n",
    "            friend = friend.strip()\n",
    "            if friend in uid2ind:\n",
    "                friend_id = uid2ind[friend]\n",
    "                adj_UU[user_id][friend_id] = 1\n",
    "                adj_UU[friend_id][user_id] = 1\n",
    "    #relation U-P-B\n",
    "    for review in reviews:\n",
    "        user_id = uid2ind[review['user_id']]\n",
    "        business_id = bid2ind[review['business_id']]\n",
    "        adj_UB[user_id][business_id] = 1\n",
    "    #relation B_Ca B_Ci\n",
    "    for business in businesses:\n",
    "        if business['business_id'] not in bid2ind:\n",
    "            continue\n",
    "        business_id = bid2ind[business['business_id']]\n",
    "        city_id = city_id2ind[business['city']]\n",
    "        print(\"business_id: %d, city_id: %d\" % (business_id, city_id))\n",
    "        adj_BCi[business_id][city_id] = 1\n",
    "        \n",
    "        # more than one category for a business\n",
    "        for category in business['categories'].split(','):\n",
    "            category = category.strip()\n",
    "            category_id = cat_id2ind[category]\n",
    "            adj_BCa[business_id][category_id] = 1\n",
    "\n",
    "    #metapath\n",
    "    adj_UUB = adj_UU.dot(adj_UB)\n",
    "\n",
    "    adj_UBU = adj_UB.dot(adj_UB.T)\n",
    "\n",
    "    adj_UBUB = adj_UBU.dot(adj_UB)\n",
    "\n",
    "    adj_UBCa = adj_UB.dot(adj_BCa)\n",
    "    adj_UBCaB = adj_UBCa.dot(adj_BCa.T)\n",
    "\n",
    "    adj_UBCi = adj_UB.dot(adj_BCi)\n",
    "    adj_UBCiB = adj_UBCi.dot(adj_BCi.T)\n",
    "\n",
    "#     adj_UCaB = adj_UCa.dot(adj_CaB)\n",
    "    \n",
    "#     adj_UCiB = adj_UCi.dot(adj_CiB)\n",
    "    \n",
    "    return adj_UB, adj_UUB, adj_UBUB, adj_UBCaB, adj_UBCiB\n"
   ]
  },
  {
   "cell_type": "code",
   "execution_count": 20,
   "metadata": {},
   "outputs": [],
   "source": [
    "train_data, valid_data, test_data, valid_with_neg_sample, test_with_neg_sample \\\n",
    "    = dataset_split(reviews, uid2ind, bid2ind, 0.8, 0.1, 0.1, 50)"
   ]
  },
  {
   "cell_type": "code",
   "execution_count": 21,
   "metadata": {},
   "outputs": [],
   "source": [
    "path = '../yelp_dataset/rates/'\n",
    "filenames = ['train_data', 'valid_data', 'test_data', 'valid_with_neg_sample', 'test_with_neg_sample']\n",
    "objs = [train_data, valid_data, test_data, valid_with_neg_sample, test_with_neg_sample]\n",
    "for file, obj in zip(filenames, objs):\n",
    "    write_pickle(path+file+'.pickle', obj)"
   ]
  },
  {
   "cell_type": "code",
   "execution_count": 12,
   "metadata": {},
   "outputs": [
    {
     "ename": "NameError",
     "evalue": "name 'user_filtered' is not defined",
     "output_type": "error",
     "traceback": [
      "\u001b[0;31m---------------------------------------------------------------------------\u001b[0m",
      "\u001b[0;31mNameError\u001b[0m                                 Traceback (most recent call last)",
      "\u001b[0;32m<ipython-input-12-02d80ddfcdb3>\u001b[0m in \u001b[0;36m<module>\u001b[0;34m\u001b[0m\n\u001b[1;32m      1\u001b[0m \u001b[0;31m# get adj matrices\u001b[0m\u001b[0;34m\u001b[0m\u001b[0;34m\u001b[0m\u001b[0m\n\u001b[1;32m      2\u001b[0m \u001b[0madj_UB\u001b[0m\u001b[0;34m,\u001b[0m \u001b[0madj_UUB\u001b[0m\u001b[0;34m,\u001b[0m \u001b[0madj_UBUB\u001b[0m\u001b[0;34m,\u001b[0m \u001b[0madj_UBCaB\u001b[0m\u001b[0;34m,\u001b[0m \u001b[0madj_UBCiB\u001b[0m\u001b[0;31m \u001b[0m\u001b[0;31m\\\u001b[0m\u001b[0;34m\u001b[0m\u001b[0m\n\u001b[0;32m----> 3\u001b[0;31m     \u001b[0;34m=\u001b[0m \u001b[0mget_adj_matrix\u001b[0m\u001b[0;34m(\u001b[0m\u001b[0muid2ind\u001b[0m\u001b[0;34m,\u001b[0m \u001b[0mbid2ind\u001b[0m\u001b[0;34m,\u001b[0m \u001b[0mct_id2ind\u001b[0m\u001b[0;34m,\u001b[0m \u001b[0mca_id2ind\u001b[0m\u001b[0;34m,\u001b[0m \u001b[0muser_filtered\u001b[0m\u001b[0;34m,\u001b[0m \u001b[0mbusi_filtered\u001b[0m\u001b[0;34m,\u001b[0m \u001b[0mreviews\u001b[0m\u001b[0;34m)\u001b[0m\u001b[0;34m\u001b[0m\u001b[0m\n\u001b[0m",
      "\u001b[0;31mNameError\u001b[0m: name 'user_filtered' is not defined"
     ]
    }
   ],
   "source": [
    "# get adj matrices\n",
    "adj_UB, adj_UUB, adj_UBUB, adj_UBCaB, adj_UBCiB \\\n",
    "    = get_adj_matrix(uid2ind, bid2ind, ct_id2ind, ca_id2ind, user_filtered, busi_filtered, reviews)"
   ]
  },
  {
   "cell_type": "code",
   "execution_count": 58,
   "metadata": {},
   "outputs": [
    {
     "name": "stdout",
     "output_type": "stream",
     "text": [
      "(12642, 12852)\n",
      "(12642, 12852)\n",
      "[[172. 185. 191. ... 218. 235. 197.]\n",
      " [ 37.  35.  41. ...  43.  48.  43.]\n",
      " [ 12.  15.  12. ...  17.  18.  15.]\n",
      " ...\n",
      " [ 36.  32.  39. ...  41.  45.  38.]\n",
      " [ 49.  36.  56. ...  42.  45.  39.]\n",
      " [ 55.  56.  62. ...  87. 105.  84.]]\n"
     ]
    }
   ],
   "source": [
    "print(adj_UB.shape)\n",
    "print(adj_UBCaB.shape)\n",
    "print(adj_UBCaB[0:100][0:100])"
   ]
  },
  {
   "cell_type": "code",
   "execution_count": 65,
   "metadata": {},
   "outputs": [],
   "source": [
    "adjs = [adj_UB, adj_UUB, adj_UBUB, adj_UBCaB, adj_UBCiB]\n",
    "filenames = ['adj_UB', 'adj_UUB', 'adj_UBUB', 'adj_UBCaB', 'adj_UBCiB']\n",
    "path = '../yelp_dataset/adjs/'\n",
    "for adj, file in zip(adjs, filenames):\n",
    "    write_pickle(path+file+'.pickle', adj)"
   ]
  },
  {
   "cell_type": "code",
   "execution_count": 73,
   "metadata": {},
   "outputs": [],
   "source": [
    "filenames = ['uid2ind', 'bid2ind', 'ct_id2ind', 'ca_id2ind', 'ind2uid', 'ind2bid', 'ind2ct_id', 'ind2ca_id']\n",
    "maps = [uid2ind, bid2ind, ct_id2ind, ca_id2ind, ind2uid, ind2bid, ind2ct_id, ind2ca_id]\n",
    "path = '../yelp_dataset/adjs/'\n",
    "for mapping, file in zip(maps, filenames):\n",
    "    write_pickle(path+file+'.pickle', mapping)"
   ]
  },
  {
   "cell_type": "code",
   "execution_count": 8,
   "metadata": {},
   "outputs": [],
   "source": [
    "# load dictionaries\n",
    "path = '../yelp_dataset/adjs/'\n",
    "uid2ind = read_pickle(path+'uid2ind.pickle')\n",
    "bid2ind = read_pickle(path+'bid2ind.pickle')\n",
    "ct_id2ind = read_pickle(path+'ct_id2ind.pickle')\n",
    "ca_id2ind = read_pickle(path+'ca_id2ind.pickle')\n",
    "ind2uid = read_pickle(path+'ind2uid.pickle')\n",
    "ind2bid = read_pickle(path+'ind2bid.pickle')\n",
    "ind2ct_id = read_pickle(path+'ind2ct_id.pickle')\n",
    "ind2ca_id = read_pickle(path+'ind2ca_id.pickle')"
   ]
  },
  {
   "cell_type": "code",
   "execution_count": null,
   "metadata": {},
   "outputs": [],
   "source": []
  },
  {
   "cell_type": "code",
   "execution_count": null,
   "metadata": {},
   "outputs": [],
   "source": []
  }
 ],
 "metadata": {
  "kernelspec": {
   "display_name": "tf2.0",
   "language": "python",
   "name": "tensorflow-2.0"
  },
  "language_info": {
   "codemirror_mode": {
    "name": "ipython",
    "version": 3
   },
   "file_extension": ".py",
   "mimetype": "text/x-python",
   "name": "python",
   "nbconvert_exporter": "python",
   "pygments_lexer": "ipython3",
   "version": "3.5.2"
  }
 },
 "nbformat": 4,
 "nbformat_minor": 2
}
