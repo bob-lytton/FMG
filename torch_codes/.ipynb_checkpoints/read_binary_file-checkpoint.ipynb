{
 "cells": [
  {
   "cell_type": "code",
   "execution_count": 2,
   "metadata": {},
   "outputs": [],
   "source": [
    "import pickle\n",
    "import json\n",
    "\n",
    "def read_pickle(file):\n",
    "    with open(file, 'rb') as f:\n",
    "        ret = pickle.load(f)\n",
    "    return ret\n",
    "\n",
    "def read_json(file):\n",
    "    with open(file, 'r') as f:\n",
    "        ret = [json.loads(line) for line in f]\n",
    "    return ret"
   ]
  },
  {
   "cell_type": "code",
   "execution_count": 3,
   "metadata": {},
   "outputs": [],
   "source": [
    "filepath = '../yelp_dataset/filtered/'\n",
    "jsonpath = '../yelp_dataset/json/'"
   ]
  },
  {
   "cell_type": "code",
   "execution_count": 4,
   "metadata": {},
   "outputs": [],
   "source": [
    "# reviews = read_pickle(filepath+'reviews.pickle')\n",
    "users = read_pickle(filepath+'users.pickle')\n",
    "businesses = read_pickle(filepath+'businesses.pickle')"
   ]
  },
  {
   "cell_type": "code",
   "execution_count": 5,
   "metadata": {},
   "outputs": [],
   "source": [
    "busi_unfil = read_json(jsonpath+'yelp_academic_dataset_business.json')"
   ]
  },
  {
   "cell_type": "code",
   "execution_count": 6,
   "metadata": {},
   "outputs": [
    {
     "name": "stdout",
     "output_type": "stream",
     "text": [
      "dict_keys(['funny', 'friends', 'user_id', 'name', 'useful', 'compliment_photos', 'compliment_cool', 'compliment_profile', 'compliment_list', 'review_count', 'average_stars', 'compliment_more', 'cool', 'fans', 'elite', 'compliment_cute', 'compliment_plain', 'compliment_note', 'compliment_hot', 'compliment_writer', 'yelping_since', 'compliment_funny'])\n"
     ]
    }
   ],
   "source": [
    "user_unfil = read_json(jsonpath+'yelp_academic_dataset_user.json')\n",
    "print(user_unfil[0].keys())"
   ]
  },
  {
   "cell_type": "code",
   "execution_count": 1,
   "metadata": {},
   "outputs": [
    {
     "ename": "NameError",
     "evalue": "name 'busi_unfil' is not defined",
     "output_type": "error",
     "traceback": [
      "\u001b[0;31m---------------------------------------------------------------------------\u001b[0m",
      "\u001b[0;31mNameError\u001b[0m                                 Traceback (most recent call last)",
      "\u001b[0;32m<ipython-input-1-fe7dd4c714f7>\u001b[0m in \u001b[0;36m<module>\u001b[0;34m\u001b[0m\n\u001b[0;32m----> 1\u001b[0;31m \u001b[0mprint\u001b[0m\u001b[0;34m(\u001b[0m\u001b[0mtype\u001b[0m\u001b[0;34m(\u001b[0m\u001b[0mbusi_unfil\u001b[0m\u001b[0;34m[\u001b[0m\u001b[0;36m0\u001b[0m\u001b[0;34m]\u001b[0m\u001b[0;34m)\u001b[0m\u001b[0;34m)\u001b[0m\u001b[0;34m\u001b[0m\u001b[0m\n\u001b[0m\u001b[1;32m      2\u001b[0m \u001b[0mprint\u001b[0m\u001b[0;34m(\u001b[0m\u001b[0mbusi_unfil\u001b[0m\u001b[0;34m[\u001b[0m\u001b[0;36m0\u001b[0m\u001b[0;34m]\u001b[0m\u001b[0;34m.\u001b[0m\u001b[0mkeys\u001b[0m\u001b[0;34m(\u001b[0m\u001b[0;34m)\u001b[0m\u001b[0;34m)\u001b[0m\u001b[0;34m\u001b[0m\u001b[0m\n\u001b[1;32m      3\u001b[0m \u001b[0mprint\u001b[0m\u001b[0;34m(\u001b[0m\u001b[0mlen\u001b[0m\u001b[0;34m(\u001b[0m\u001b[0mbusi_unfil\u001b[0m\u001b[0;34m)\u001b[0m\u001b[0;34m)\u001b[0m\u001b[0;34m\u001b[0m\u001b[0m\n\u001b[1;32m      4\u001b[0m \u001b[0mprint\u001b[0m\u001b[0;34m(\u001b[0m\u001b[0mbusi_unfil\u001b[0m\u001b[0;34m[\u001b[0m\u001b[0;36m0\u001b[0m\u001b[0;34m]\u001b[0m\u001b[0;34m[\u001b[0m\u001b[0;34m'categories'\u001b[0m\u001b[0;34m]\u001b[0m\u001b[0;34m)\u001b[0m\u001b[0;34m\u001b[0m\u001b[0m\n",
      "\u001b[0;31mNameError\u001b[0m: name 'busi_unfil' is not defined"
     ]
    }
   ],
   "source": [
    "print(type(busi_unfil[0]))\n",
    "print(busi_unfil[0].keys())\n",
    "print(len(busi_unfil))\n",
    "print(busi_unfil[0]['categories'])"
   ]
  },
  {
   "cell_type": "code",
   "execution_count": 13,
   "metadata": {},
   "outputs": [],
   "source": [
    "busi_filtered = []\n",
    "for busi in busi_unfil:\n",
    "    for business in businesses:\n",
    "        if busi['business_id'] == business:\n",
    "            busi_filtered.append(busi)\n",
    "            break\n",
    "user_filtered = []\n",
    "for user in user_unfil:\n",
    "    for u in users:\n",
    "        if user['user_id'] == u:\n",
    "            user_filtered.append(user)\n",
    "            break"
   ]
  },
  {
   "cell_type": "code",
   "execution_count": 8,
   "metadata": {},
   "outputs": [
    {
     "name": "stdout",
     "output_type": "stream",
     "text": [
      "12852\n",
      "12852\n"
     ]
    }
   ],
   "source": [
    "print(len(busi_filtered))\n",
    "print(len(businesses))"
   ]
  },
  {
   "cell_type": "code",
   "execution_count": 9,
   "metadata": {
    "scrolled": true
   },
   "outputs": [],
   "source": [
    "uinds = [i for i in range(len(users))]\n",
    "uid2ind = {user:ind for user, ind in zip(users, uinds)}\n",
    "ind2uid = {ind:user for user, ind in zip(users, uinds)}\n",
    "\n",
    "b_inds = [i for i in range(len(businesses))]\n",
    "bid2ind = {business:ind for business, ind in zip(businesses, b_inds)}\n",
    "ind2bid = {ind:business for business, ind in zip(businesses, b_inds)}\n",
    "\n",
    "ct_id2ind = {busi['city']:ind for busi, ind in zip(busi_filtered, b_inds)}\n",
    "ind2ct_id = {ind:busi['city'] for busi, ind in zip(busi_filtered, b_inds)}\n",
    "\n",
    "ca_id2ind = {busi['categories']:ind for busi, ind in zip(busi_filtered, b_inds)}\n",
    "ind2ca_id = {ind:busi['categories'] for busi, ind in zip(busi_filtered, b_inds)}"
   ]
  },
  {
   "cell_type": "code",
   "execution_count": 11,
   "metadata": {},
   "outputs": [
    {
     "ename": "MemoryError",
     "evalue": "Unable to allocate array with shape (162474984, 3) and data type float64",
     "output_type": "error",
     "traceback": [
      "\u001b[0;31m---------------------------------------------------------------------------\u001b[0m",
      "\u001b[0;31mMemoryError\u001b[0m                               Traceback (most recent call last)",
      "\u001b[0;32m<ipython-input-11-023025cf5a00>\u001b[0m in \u001b[0;36m<module>\u001b[0;34m\u001b[0m\n\u001b[1;32m      1\u001b[0m \u001b[0;32mimport\u001b[0m \u001b[0mnumpy\u001b[0m \u001b[0;32mas\u001b[0m \u001b[0mnp\u001b[0m\u001b[0;34m\u001b[0m\u001b[0m\n\u001b[0;32m----> 2\u001b[0;31m \u001b[0mY\u001b[0m \u001b[0;34m=\u001b[0m \u001b[0mnp\u001b[0m\u001b[0;34m.\u001b[0m\u001b[0mzeros\u001b[0m\u001b[0;34m(\u001b[0m\u001b[0;34m(\u001b[0m\u001b[0mlen\u001b[0m\u001b[0;34m(\u001b[0m\u001b[0musers\u001b[0m\u001b[0;34m)\u001b[0m\u001b[0;34m*\u001b[0m\u001b[0mlen\u001b[0m\u001b[0;34m(\u001b[0m\u001b[0mbusinesses\u001b[0m\u001b[0;34m)\u001b[0m\u001b[0;34m,\u001b[0m \u001b[0;36m3\u001b[0m\u001b[0;34m)\u001b[0m\u001b[0;34m)\u001b[0m\u001b[0;34m\u001b[0m\u001b[0m\n\u001b[0m\u001b[1;32m      3\u001b[0m \u001b[0mprint\u001b[0m\u001b[0;34m(\u001b[0m\u001b[0mY\u001b[0m\u001b[0;34m)\u001b[0m\u001b[0;34m\u001b[0m\u001b[0m\n",
      "\u001b[0;31mMemoryError\u001b[0m: Unable to allocate array with shape (162474984, 3) and data type float64"
     ]
    }
   ],
   "source": [
    "import numpy as np\n",
    "Y = np.zeros((len(users)*len(businesses), 3))\n",
    "print(Y)"
   ]
  },
  {
   "cell_type": "code",
   "execution_count": 12,
   "metadata": {},
   "outputs": [],
   "source": [
    "# get adjs\n",
    "def get_adj_matrix(uid2ind, bid2ind, city_id2ind, cat_id2ind, users, businesses):\n",
    "    \"\"\"\n",
    "    metapaths: UB, UUB, UBUB, UBCaB, UBCiB\n",
    "    \"\"\"\n",
    "    tot_users = len(uid2ind)  # tot for total\n",
    "    tot_business = len(bid2ind)\n",
    "    tot_city = len(city_id2ind)\n",
    "    tot_category = len(cat_id2ind)\n",
    "    #relation U-U\n",
    "    adj_UU = np.zeros([tot_users, tot_users])\n",
    "    adj_UB = np.zeros([tot_users, tot_business])\n",
    "    adj_BCa = np.zeros([tot_business, tot_category])\n",
    "    adj_BCi = np.zeros([tot_business, tot_city])\n",
    "    for user in users:\n",
    "        if user['user_id'] not in uid2ind:\n",
    "            continue\n",
    "        user_id = uid2ind[user['user_id']]\n",
    "        for friend in user['friends'].split(','):\n",
    "            friend = friend.strip()\n",
    "            if friend in uid2ind:\n",
    "                friend_id = uid2ind[friend]\n",
    "                adj_UU[user_id][friend_id] = 1\n",
    "                adj_UU[friend_id][user_id] = 1\n",
    "    #relation U-P-B\n",
    "    for review in pos_reviews:\n",
    "        user_id = review[0]\n",
    "        business_id = review[1]\n",
    "        adj_UPB[user_id][business_id] = 1\n",
    "    #relation B_Ca B_Ci\n",
    "    for business in businesses:\n",
    "        if business['business_id'] not in bid2ind:\n",
    "            continue\n",
    "        business_id = bid2ind[business['business_id']]\n",
    "        city_id = city_id2ind[business['city']]\n",
    "        adj_BCi[business_id][city_id] = 1\n",
    "        adj_CiB[city_id][business_id] = 1\n",
    "        # more than one category for a business\n",
    "        for category in business['categories'].split(','):\n",
    "            category = category.strip()\n",
    "            category_id = cat_id2ind[category]\n",
    "            adj_BCa[business_id][category_id] = 1\n",
    "            adj_CaB[category_id][business_id] = 1\n",
    "\n",
    "    #metapath\n",
    "    adj_UUB = adj_UU.dot(adj_UB)\n",
    "\n",
    "    adj_UBU = adj_UB.dot(adj_UB.T)\n",
    "\n",
    "    adj_UBUB = adj_UBU.dot(adj_UB)\n",
    "\n",
    "    adj_UBCa = adj_UB.dot(adj_BCa)\n",
    "    adj_UBCaB = adj_UBCa.dot(adj_BCa.T)\n",
    "\n",
    "    adj_UBCi = adj_UB.dot(adj_BCi)\n",
    "    adj_UBCiB = adj_UBCi.dot(adj_BCi.T)\n",
    "\n",
    "#     adj_UCaB = adj_UCa.dot(adj_CaB)\n",
    "    \n",
    "#     adj_UCiB = adj_UCi.dot(adj_CiB)\n",
    "    \n",
    "    return adj_UB, adj_UUB, adj_UBUB, adj_UBCaB, adj_UBCiB\n"
   ]
  },
  {
   "cell_type": "code",
   "execution_count": 1,
   "metadata": {},
   "outputs": [
    {
     "ename": "NameError",
     "evalue": "name 'get_adj_matrix' is not defined",
     "output_type": "error",
     "traceback": [
      "\u001b[0;31m---------------------------------------------------------------------------\u001b[0m",
      "\u001b[0;31mNameError\u001b[0m                                 Traceback (most recent call last)",
      "\u001b[0;32m<ipython-input-1-8a1fcc04604c>\u001b[0m in \u001b[0;36m<module>\u001b[0;34m\u001b[0m\n\u001b[1;32m      1\u001b[0m \u001b[0;31m# get adj matrices\u001b[0m\u001b[0;34m\u001b[0m\u001b[0;34m\u001b[0m\u001b[0m\n\u001b[1;32m      2\u001b[0m \u001b[0madj_UB\u001b[0m\u001b[0;34m,\u001b[0m \u001b[0madj_UUB\u001b[0m\u001b[0;34m,\u001b[0m \u001b[0madj_UBUB\u001b[0m\u001b[0;34m,\u001b[0m \u001b[0madj_UBCaB\u001b[0m\u001b[0;34m,\u001b[0m \u001b[0madj_UBCiB\u001b[0m\u001b[0;31m \u001b[0m\u001b[0;31m\\\u001b[0m\u001b[0;34m\u001b[0m\u001b[0m\n\u001b[0;32m----> 3\u001b[0;31m     \u001b[0;34m=\u001b[0m \u001b[0mget_adj_matrix\u001b[0m\u001b[0;34m(\u001b[0m\u001b[0muid2ind\u001b[0m\u001b[0;34m,\u001b[0m \u001b[0mbid2ind\u001b[0m\u001b[0;34m,\u001b[0m \u001b[0mct_id2ind\u001b[0m\u001b[0;34m,\u001b[0m \u001b[0mca_id2ind\u001b[0m\u001b[0;34m,\u001b[0m \u001b[0muser_filtered\u001b[0m\u001b[0;34m,\u001b[0m \u001b[0mbusi_filtered\u001b[0m\u001b[0;34m)\u001b[0m\u001b[0;34m\u001b[0m\u001b[0m\n\u001b[0m",
      "\u001b[0;31mNameError\u001b[0m: name 'get_adj_matrix' is not defined"
     ]
    }
   ],
   "source": [
    "# get adj matrices\n",
    "adj_UB, adj_UUB, adj_UBUB, adj_UBCaB, adj_UBCiB \\\n",
    "    = get_adj_matrix(uid2ind, bid2ind, ct_id2ind, ca_id2ind, user_filtered, busi_filtered)"
   ]
  },
  {
   "cell_type": "code",
   "execution_count": 15,
   "metadata": {},
   "outputs": [
    {
     "name": "stdout",
     "output_type": "stream",
     "text": [
      "{1, 2, 3, 4, 5}\n"
     ]
    }
   ],
   "source": [
    "# partition dataset"
   ]
  },
  {
   "cell_type": "code",
   "execution_count": null,
   "metadata": {},
   "outputs": [],
   "source": []
  }
 ],
 "metadata": {
  "kernelspec": {
   "display_name": "temp_model",
   "language": "python",
   "name": "temp_model"
  },
  "language_info": {
   "codemirror_mode": {
    "name": "ipython",
    "version": 3
   },
   "file_extension": ".py",
   "mimetype": "text/x-python",
   "name": "python",
   "nbconvert_exporter": "python",
   "pygments_lexer": "ipython3",
   "version": "3.5.2"
  }
 },
 "nbformat": 4,
 "nbformat_minor": 2
}
